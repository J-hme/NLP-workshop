{
 "cells": [
  {
   "cell_type": "markdown",
   "metadata": {},
   "source": [
    "# Sentiment Analysis using VADER\n",
    "\n",
    "\n",
    "Sentiment Analysis or Opinion Mining is a sub-field of Natural Language Processing (NLP) that tries to identify and extract opinions within a given text. The aim of sentiment analysis is to gauge the attitude, sentiments, evaluations, attitudes and emotions of a speaker/writer based on the computational treatment of subjectivity in a text.\n",
    "\n",
    "Though it may seem easy on paper, Sentiment Analysis is actually a tricky subject. There are various reasons for that:\n",
    "\n",
    "- Understanding emotions through text are not always easy. Sometimes even humans can get misled.\n",
    "\n",
    "\n",
    "- A text may contain multiple sentiments all at once. For instance, “The intent behind the movie was great, but it could have been better”. This sentence consists of two polarities, i.e., Positive as well as Negative. So how do we conclude whether the review was Positive or Negative?\n",
    "\n",
    "\n",
    "- Computers aren’t too comfortable in comprehending Figurative Speech. Figurative language uses words in a way that deviates from their conventionally accepted definitions in order to convey a more complicated meaning or heightened effect. Use of similes, metaphors, hyperboles etc qualify for a figurative speech: “The best I can say about the movie is that it was interesting.” Here, the word ’interesting’ does not necessarily convey positive sentiment and can be confusing for algorithms.\n",
    "\n",
    "\n",
    "- Heavy use of emoticons and slangs with sentiment values in social media texts like that of Twitter and Facebook also makes text analysis difficult. For example a “ :)” denotes a smiley and generally refers to positive sentiment while “:(” denotes a negative sentiment on the other hand. Also, acronyms like “LOL“, ”OMG” and commonly used slangs like “Nah”, “meh”, ”giggly” etc are also strong indicators of some sort of sentiment in a sentence.\n"
   ]
  },
  {
   "cell_type": "markdown",
   "metadata": {},
   "source": [
    "**VADER (Valence Aware Dictionary and sEntiment Reasoner)** belongs to a type of sentiment analysis that is based on lexicons of sentiment-related words. In this approach, each of the words in the lexicon is rated as to whether it is positive or negative, and in many cases, how positive or negative. Below you can see an excerpt from VADER’s lexicon, where more positive words have higher positive ratings and more negative words have lower negative ratings.\n",
    "\n",
    "```\n",
    "Word\t  Sentiment rating\n",
    "tragedy\t    -3.4\n",
    "rejoiced   \t 2.0\n",
    "insane\t     -1.7\n",
    "disaster   \t-3.1\n",
    "great\t       3.1\n",
    "```\n",
    "\n",
    "To work out whether these words are positive or negative (and optionally, to what degree), the developers of these approaches need to get a bunch of people to manually rate them, which is obviously pretty expensive and time-consuming. In addition, the lexicon needs to have good coverage of the words in your text of interest, otherwise it won’t be very accurate. On the flipside, when there is a good fit between the lexicon and the text, this approach is accurate, and additionally quickly returns results even on large amounts of text."
   ]
  },
  {
   "cell_type": "code",
   "execution_count": 1,
   "metadata": {},
   "outputs": [],
   "source": [
    "import pandas as pd\n",
    "from vaderSentiment.vaderSentiment import SentimentIntensityAnalyzer\n",
    "analyzer = SentimentIntensityAnalyzer()"
   ]
  },
  {
   "cell_type": "markdown",
   "metadata": {},
   "source": [
    "For this example, we'll use a curated dataset of Amazon reviews for toys and games filtered to products with more than 500 reviews. This dataset was collected and cleaned in the `0.Data Scraping and Prep` notebook."
   ]
  },
  {
   "cell_type": "code",
   "execution_count": 2,
   "metadata": {},
   "outputs": [
    {
     "name": "stdout",
     "output_type": "stream",
     "text": [
      "gzip: can't stat: ../data/reviews_amazon_small.csv.gz (../data/reviews_amazon_small.csv.gz.gz): No such file or directory\r\n"
     ]
    }
   ],
   "source": [
    "# This command will unzip the text file\n",
    "# The rest of the cell will run even if this command fails\n",
    "!gzip -d ../data/reviews_amazon_small.csv.gz\n",
    "\n",
    "reviews = pd.read_csv('../data/reviews_amazon_small.csv')"
   ]
  },
  {
   "cell_type": "markdown",
   "metadata": {},
   "source": [
    "When VADER analyses a piece of text it checks to see if any of the words in the text are present in the lexicon. For example, the sentence “The food is good and the atmosphere is nice” has two words in the lexicon (good and nice) with ratings of 1.9 and 1.8 respectively. If none of the words in the text appear in the lexicon, it returns an error.\n",
    "\n",
    "VADER produces four sentiment metrics from these word ratings. The first three, positive, neutral and negative, represent the proportion of the text that falls into those categories. The final metric, the compound score, is the sum of all of the lexicon ratings normalized to range between -1 and 1."
   ]
  },
  {
   "cell_type": "code",
   "execution_count": 3,
   "metadata": {},
   "outputs": [],
   "source": [
    "reviews['negative'] = 0\n",
    "reviews['neutral'] = 0\n",
    "reviews['positive'] = 0\n",
    "reviews['compound'] = 0\n",
    "\n",
    "for n in range(len(reviews)):\n",
    "    try:\n",
    "        vs = analyzer.polarity_scores(reviews.loc[n, 'text'])\n",
    "        reviews.loc[n,'negative'] = vs['neg']\n",
    "        reviews.loc[n,'neutral'] = vs['neu']\n",
    "        reviews.loc[n,'positive'] = vs['pos']\n",
    "        reviews.loc[n,'compound'] = vs['compound']\n",
    "        \n",
    "    except:\n",
    "        pass"
   ]
  },
  {
   "cell_type": "markdown",
   "metadata": {},
   "source": [
    "We can compare the compound scores from VADER against the ratings left by reviewers:"
   ]
  },
  {
   "cell_type": "code",
   "execution_count": 4,
   "metadata": {},
   "outputs": [],
   "source": [
    "rating_vs_compound = pd.crosstab(reviews['rating'], reviews['compound'] > 0)\n",
    "rating_vs_compound = rating_vs_compound.T / rating_vs_compound.sum(axis = 1) * 100\n",
    "rating_vs_compound = rating_vs_compound.T"
   ]
  },
  {
   "cell_type": "code",
   "execution_count": 5,
   "metadata": {},
   "outputs": [
    {
     "data": {
      "text/html": [
       "<style  type=\"text/css\" >\n",
       "    #T_a0452dce_a1ea_11ea_b1e1_acde48001122row0_col0 {\n",
       "            background-color:  #5bc0c0;\n",
       "        }    #T_a0452dce_a1ea_11ea_b1e1_acde48001122row0_col1 {\n",
       "            background-color:  #67c4be;\n",
       "        }    #T_a0452dce_a1ea_11ea_b1e1_acde48001122row1_col0 {\n",
       "            background-color:  #80cebb;\n",
       "        }    #T_a0452dce_a1ea_11ea_b1e1_acde48001122row1_col1 {\n",
       "            background-color:  #42b6c4;\n",
       "        }    #T_a0452dce_a1ea_11ea_b1e1_acde48001122row2_col0 {\n",
       "            background-color:  #b4e2b6;\n",
       "        }    #T_a0452dce_a1ea_11ea_b1e1_acde48001122row2_col1 {\n",
       "            background-color:  #289cc1;\n",
       "        }    #T_a0452dce_a1ea_11ea_b1e1_acde48001122row3_col0 {\n",
       "            background-color:  #ceecb3;\n",
       "        }    #T_a0452dce_a1ea_11ea_b1e1_acde48001122row3_col1 {\n",
       "            background-color:  #1e8abd;\n",
       "        }    #T_a0452dce_a1ea_11ea_b1e1_acde48001122row4_col0 {\n",
       "            background-color:  #d1edb3;\n",
       "        }    #T_a0452dce_a1ea_11ea_b1e1_acde48001122row4_col1 {\n",
       "            background-color:  #1e86bb;\n",
       "        }</style><table id=\"T_a0452dce_a1ea_11ea_b1e1_acde48001122\" ><thead>    <tr>        <th class=\"index_name level0\" >compound</th>        <th class=\"col_heading level0 col0\" >False</th>        <th class=\"col_heading level0 col1\" >True</th>    </tr>    <tr>        <th class=\"index_name level0\" >rating</th>        <th class=\"blank\" ></th>        <th class=\"blank\" ></th>    </tr></thead><tbody>\n",
       "                <tr>\n",
       "                        <th id=\"T_a0452dce_a1ea_11ea_b1e1_acde48001122level0_row0\" class=\"row_heading level0 row0\" >1.0</th>\n",
       "                        <td id=\"T_a0452dce_a1ea_11ea_b1e1_acde48001122row0_col0\" class=\"data row0 col0\" >52.750000</td>\n",
       "                        <td id=\"T_a0452dce_a1ea_11ea_b1e1_acde48001122row0_col1\" class=\"data row0 col1\" >47.250000</td>\n",
       "            </tr>\n",
       "            <tr>\n",
       "                        <th id=\"T_a0452dce_a1ea_11ea_b1e1_acde48001122level0_row1\" class=\"row_heading level0 row1\" >2.0</th>\n",
       "                        <td id=\"T_a0452dce_a1ea_11ea_b1e1_acde48001122row1_col0\" class=\"data row1 col0\" >35.940000</td>\n",
       "                        <td id=\"T_a0452dce_a1ea_11ea_b1e1_acde48001122row1_col1\" class=\"data row1 col1\" >64.060000</td>\n",
       "            </tr>\n",
       "            <tr>\n",
       "                        <th id=\"T_a0452dce_a1ea_11ea_b1e1_acde48001122level0_row2\" class=\"row_heading level0 row2\" >3.0</th>\n",
       "                        <td id=\"T_a0452dce_a1ea_11ea_b1e1_acde48001122row2_col0\" class=\"data row2 col0\" >16.020000</td>\n",
       "                        <td id=\"T_a0452dce_a1ea_11ea_b1e1_acde48001122row2_col1\" class=\"data row2 col1\" >83.980000</td>\n",
       "            </tr>\n",
       "            <tr>\n",
       "                        <th id=\"T_a0452dce_a1ea_11ea_b1e1_acde48001122level0_row3\" class=\"row_heading level0 row3\" >4.0</th>\n",
       "                        <td id=\"T_a0452dce_a1ea_11ea_b1e1_acde48001122row3_col0\" class=\"data row3 col0\" >4.020000</td>\n",
       "                        <td id=\"T_a0452dce_a1ea_11ea_b1e1_acde48001122row3_col1\" class=\"data row3 col1\" >95.980000</td>\n",
       "            </tr>\n",
       "            <tr>\n",
       "                        <th id=\"T_a0452dce_a1ea_11ea_b1e1_acde48001122level0_row4\" class=\"row_heading level0 row4\" >5.0</th>\n",
       "                        <td id=\"T_a0452dce_a1ea_11ea_b1e1_acde48001122row4_col0\" class=\"data row4 col0\" >1.870000</td>\n",
       "                        <td id=\"T_a0452dce_a1ea_11ea_b1e1_acde48001122row4_col1\" class=\"data row4 col1\" >98.130000</td>\n",
       "            </tr>\n",
       "    </tbody></table>"
      ],
      "text/plain": [
       "<pandas.io.formats.style.Styler at 0x117539190>"
      ]
     },
     "execution_count": 5,
     "metadata": {},
     "output_type": "execute_result"
    }
   ],
   "source": [
    "import matplotlib.pyplot as plt\n",
    "from matplotlib import colors\n",
    "\n",
    "def background_gradient(s, m, M, cmap='PuBu', low=0, high=0):\n",
    "    rng = M - m\n",
    "    norm = colors.Normalize(m - (rng * low),\n",
    "                            M + (rng * high))\n",
    "    normed = norm(s.values)\n",
    "    c = [colors.rgb2hex(x) for x in plt.cm.get_cmap(cmap)(normed)]\n",
    "    return ['background-color: %s' % color for color in c]\n",
    "\n",
    "rating_vs_compound.round(2).style.apply(background_gradient,\n",
    "               cmap='YlGnBu',\n",
    "               m=rating_vs_compound.min().min(),\n",
    "               M=rating_vs_compound.max().max(),\n",
    "               low=0.5,\n",
    "               high=0.8)"
   ]
  },
  {
   "cell_type": "markdown",
   "metadata": {},
   "source": [
    "While reviews matched with high ratings (4 and 5 stars) tend to have positive sentiment (defined as a compound score greater than zero, reviews with the lowest possible score (1 star) are split almost evenly between having positive and negative sentiment. This suggests that the compound sentiment of any one review may not be enough to predict the corresponding rating.\n",
    "\n",
    "To understand the variability in sentiment among reviews, we can look at the statistics of compound scores for reviews of each rating:"
   ]
  },
  {
   "cell_type": "code",
   "execution_count": 6,
   "metadata": {},
   "outputs": [
    {
     "data": {
      "text/html": [
       "<style  type=\"text/css\" >\n",
       "    #T_a06173ee_a1ea_11ea_b1e1_acde48001122row0_col0 {\n",
       "            background-color:  #081d58;\n",
       "            color:  white;\n",
       "        }    #T_a06173ee_a1ea_11ea_b1e1_acde48001122row0_col1 {\n",
       "            background-color:  #ecf7b1;\n",
       "            color:  black;\n",
       "        }    #T_a06173ee_a1ea_11ea_b1e1_acde48001122row0_col2 {\n",
       "            background-color:  #55bec1;\n",
       "            color:  black;\n",
       "        }    #T_a06173ee_a1ea_11ea_b1e1_acde48001122row0_col3 {\n",
       "            background-color:  #ffffd9;\n",
       "            color:  black;\n",
       "        }    #T_a06173ee_a1ea_11ea_b1e1_acde48001122row0_col4 {\n",
       "            background-color:  #ffffd9;\n",
       "            color:  black;\n",
       "        }    #T_a06173ee_a1ea_11ea_b1e1_acde48001122row0_col5 {\n",
       "            background-color:  #f1faba;\n",
       "            color:  black;\n",
       "        }    #T_a06173ee_a1ea_11ea_b1e1_acde48001122row0_col6 {\n",
       "            background-color:  #4cbac2;\n",
       "            color:  black;\n",
       "        }    #T_a06173ee_a1ea_11ea_b1e1_acde48001122row0_col7 {\n",
       "            background-color:  #1d90c0;\n",
       "            color:  black;\n",
       "        }    #T_a06173ee_a1ea_11ea_b1e1_acde48001122row1_col0 {\n",
       "            background-color:  #081d58;\n",
       "            color:  white;\n",
       "        }    #T_a06173ee_a1ea_11ea_b1e1_acde48001122row1_col1 {\n",
       "            background-color:  #c4e8b4;\n",
       "            color:  black;\n",
       "        }    #T_a06173ee_a1ea_11ea_b1e1_acde48001122row1_col2 {\n",
       "            background-color:  #57bec1;\n",
       "            color:  black;\n",
       "        }    #T_a06173ee_a1ea_11ea_b1e1_acde48001122row1_col3 {\n",
       "            background-color:  #ffffd9;\n",
       "            color:  black;\n",
       "        }    #T_a06173ee_a1ea_11ea_b1e1_acde48001122row1_col4 {\n",
       "            background-color:  #ffffd9;\n",
       "            color:  black;\n",
       "        }    #T_a06173ee_a1ea_11ea_b1e1_acde48001122row1_col5 {\n",
       "            background-color:  #90d4b9;\n",
       "            color:  black;\n",
       "        }    #T_a06173ee_a1ea_11ea_b1e1_acde48001122row1_col6 {\n",
       "            background-color:  #2da2c2;\n",
       "            color:  black;\n",
       "        }    #T_a06173ee_a1ea_11ea_b1e1_acde48001122row1_col7 {\n",
       "            background-color:  #1d90c0;\n",
       "            color:  black;\n",
       "        }    #T_a06173ee_a1ea_11ea_b1e1_acde48001122row2_col0 {\n",
       "            background-color:  #081d58;\n",
       "            color:  white;\n",
       "        }    #T_a06173ee_a1ea_11ea_b1e1_acde48001122row2_col1 {\n",
       "            background-color:  #6bc6be;\n",
       "            color:  black;\n",
       "        }    #T_a06173ee_a1ea_11ea_b1e1_acde48001122row2_col2 {\n",
       "            background-color:  #7acbbc;\n",
       "            color:  black;\n",
       "        }    #T_a06173ee_a1ea_11ea_b1e1_acde48001122row2_col3 {\n",
       "            background-color:  #ffffd9;\n",
       "            color:  black;\n",
       "        }    #T_a06173ee_a1ea_11ea_b1e1_acde48001122row2_col4 {\n",
       "            background-color:  #8cd2ba;\n",
       "            color:  black;\n",
       "        }    #T_a06173ee_a1ea_11ea_b1e1_acde48001122row2_col5 {\n",
       "            background-color:  #35aac3;\n",
       "            color:  black;\n",
       "        }    #T_a06173ee_a1ea_11ea_b1e1_acde48001122row2_col6 {\n",
       "            background-color:  #2498c1;\n",
       "            color:  black;\n",
       "        }    #T_a06173ee_a1ea_11ea_b1e1_acde48001122row2_col7 {\n",
       "            background-color:  #1d90c0;\n",
       "            color:  black;\n",
       "        }    #T_a06173ee_a1ea_11ea_b1e1_acde48001122row3_col0 {\n",
       "            background-color:  #081d58;\n",
       "            color:  white;\n",
       "        }    #T_a06173ee_a1ea_11ea_b1e1_acde48001122row3_col1 {\n",
       "            background-color:  #35aac3;\n",
       "            color:  black;\n",
       "        }    #T_a06173ee_a1ea_11ea_b1e1_acde48001122row3_col2 {\n",
       "            background-color:  #bbe4b5;\n",
       "            color:  black;\n",
       "        }    #T_a06173ee_a1ea_11ea_b1e1_acde48001122row3_col3 {\n",
       "            background-color:  #ffffd9;\n",
       "            color:  black;\n",
       "        }    #T_a06173ee_a1ea_11ea_b1e1_acde48001122row3_col4 {\n",
       "            background-color:  #34a9c3;\n",
       "            color:  black;\n",
       "        }    #T_a06173ee_a1ea_11ea_b1e1_acde48001122row3_col5 {\n",
       "            background-color:  #259ac1;\n",
       "            color:  black;\n",
       "        }    #T_a06173ee_a1ea_11ea_b1e1_acde48001122row3_col6 {\n",
       "            background-color:  #2195c0;\n",
       "            color:  black;\n",
       "        }    #T_a06173ee_a1ea_11ea_b1e1_acde48001122row3_col7 {\n",
       "            background-color:  #1d90c0;\n",
       "            color:  black;\n",
       "        }    #T_a06173ee_a1ea_11ea_b1e1_acde48001122row4_col0 {\n",
       "            background-color:  #081d58;\n",
       "            color:  white;\n",
       "        }    #T_a06173ee_a1ea_11ea_b1e1_acde48001122row4_col1 {\n",
       "            background-color:  #2ea3c2;\n",
       "            color:  black;\n",
       "        }    #T_a06173ee_a1ea_11ea_b1e1_acde48001122row4_col2 {\n",
       "            background-color:  #ceecb3;\n",
       "            color:  black;\n",
       "        }    #T_a06173ee_a1ea_11ea_b1e1_acde48001122row4_col3 {\n",
       "            background-color:  #ffffd9;\n",
       "            color:  black;\n",
       "        }    #T_a06173ee_a1ea_11ea_b1e1_acde48001122row4_col4 {\n",
       "            background-color:  #2ea3c2;\n",
       "            color:  black;\n",
       "        }    #T_a06173ee_a1ea_11ea_b1e1_acde48001122row4_col5 {\n",
       "            background-color:  #2498c1;\n",
       "            color:  black;\n",
       "        }    #T_a06173ee_a1ea_11ea_b1e1_acde48001122row4_col6 {\n",
       "            background-color:  #2195c0;\n",
       "            color:  black;\n",
       "        }    #T_a06173ee_a1ea_11ea_b1e1_acde48001122row4_col7 {\n",
       "            background-color:  #1d90c0;\n",
       "            color:  black;\n",
       "        }</style><table id=\"T_a06173ee_a1ea_11ea_b1e1_acde48001122\" ><thead>    <tr>        <th class=\"blank level0\" ></th>        <th class=\"col_heading level0 col0\" colspan=8>compound</th>    </tr>    <tr>        <th class=\"blank level1\" ></th>        <th class=\"col_heading level1 col0\" >count</th>        <th class=\"col_heading level1 col1\" >mean</th>        <th class=\"col_heading level1 col2\" >std</th>        <th class=\"col_heading level1 col3\" >min</th>        <th class=\"col_heading level1 col4\" >25%</th>        <th class=\"col_heading level1 col5\" >50%</th>        <th class=\"col_heading level1 col6\" >75%</th>        <th class=\"col_heading level1 col7\" >max</th>    </tr>    <tr>        <th class=\"index_name level0\" >rating</th>        <th class=\"blank\" ></th>        <th class=\"blank\" ></th>        <th class=\"blank\" ></th>        <th class=\"blank\" ></th>        <th class=\"blank\" ></th>        <th class=\"blank\" ></th>        <th class=\"blank\" ></th>        <th class=\"blank\" ></th>    </tr></thead><tbody>\n",
       "                <tr>\n",
       "                        <th id=\"T_a06173ee_a1ea_11ea_b1e1_acde48001122level0_row0\" class=\"row_heading level0 row0\" >1.0</th>\n",
       "                        <td id=\"T_a06173ee_a1ea_11ea_b1e1_acde48001122row0_col0\" class=\"data row0 col0\" >182.000000</td>\n",
       "                        <td id=\"T_a06173ee_a1ea_11ea_b1e1_acde48001122row0_col1\" class=\"data row0 col1\" >0.010000</td>\n",
       "                        <td id=\"T_a06173ee_a1ea_11ea_b1e1_acde48001122row0_col2\" class=\"data row0 col2\" >0.670000</td>\n",
       "                        <td id=\"T_a06173ee_a1ea_11ea_b1e1_acde48001122row0_col3\" class=\"data row0 col3\" >-0.980000</td>\n",
       "                        <td id=\"T_a06173ee_a1ea_11ea_b1e1_acde48001122row0_col4\" class=\"data row0 col4\" >-0.640000</td>\n",
       "                        <td id=\"T_a06173ee_a1ea_11ea_b1e1_acde48001122row0_col5\" class=\"data row0 col5\" >-0.050000</td>\n",
       "                        <td id=\"T_a06173ee_a1ea_11ea_b1e1_acde48001122row0_col6\" class=\"data row0 col6\" >0.710000</td>\n",
       "                        <td id=\"T_a06173ee_a1ea_11ea_b1e1_acde48001122row0_col7\" class=\"data row0 col7\" >1.000000</td>\n",
       "            </tr>\n",
       "            <tr>\n",
       "                        <th id=\"T_a06173ee_a1ea_11ea_b1e1_acde48001122level0_row1\" class=\"row_heading level0 row1\" >2.0</th>\n",
       "                        <td id=\"T_a06173ee_a1ea_11ea_b1e1_acde48001122row1_col0\" class=\"data row1 col0\" >256.000000</td>\n",
       "                        <td id=\"T_a06173ee_a1ea_11ea_b1e1_acde48001122row1_col1\" class=\"data row1 col1\" >0.260000</td>\n",
       "                        <td id=\"T_a06173ee_a1ea_11ea_b1e1_acde48001122row1_col2\" class=\"data row1 col2\" >0.660000</td>\n",
       "                        <td id=\"T_a06173ee_a1ea_11ea_b1e1_acde48001122row1_col3\" class=\"data row1 col3\" >-0.970000</td>\n",
       "                        <td id=\"T_a06173ee_a1ea_11ea_b1e1_acde48001122row1_col4\" class=\"data row1 col4\" >-0.390000</td>\n",
       "                        <td id=\"T_a06173ee_a1ea_11ea_b1e1_acde48001122row1_col5\" class=\"data row1 col5\" >0.440000</td>\n",
       "                        <td id=\"T_a06173ee_a1ea_11ea_b1e1_acde48001122row1_col6\" class=\"data row1 col6\" >0.890000</td>\n",
       "                        <td id=\"T_a06173ee_a1ea_11ea_b1e1_acde48001122row1_col7\" class=\"data row1 col7\" >1.000000</td>\n",
       "            </tr>\n",
       "            <tr>\n",
       "                        <th id=\"T_a06173ee_a1ea_11ea_b1e1_acde48001122level0_row2\" class=\"row_heading level0 row2\" >3.0</th>\n",
       "                        <td id=\"T_a06173ee_a1ea_11ea_b1e1_acde48001122row2_col0\" class=\"data row2 col0\" >724.000000</td>\n",
       "                        <td id=\"T_a06173ee_a1ea_11ea_b1e1_acde48001122row2_col1\" class=\"data row2 col1\" >0.580000</td>\n",
       "                        <td id=\"T_a06173ee_a1ea_11ea_b1e1_acde48001122row2_col2\" class=\"data row2 col2\" >0.520000</td>\n",
       "                        <td id=\"T_a06173ee_a1ea_11ea_b1e1_acde48001122row2_col3\" class=\"data row2 col3\" >-0.970000</td>\n",
       "                        <td id=\"T_a06173ee_a1ea_11ea_b1e1_acde48001122row2_col4\" class=\"data row2 col4\" >0.460000</td>\n",
       "                        <td id=\"T_a06173ee_a1ea_11ea_b1e1_acde48001122row2_col5\" class=\"data row2 col5\" >0.830000</td>\n",
       "                        <td id=\"T_a06173ee_a1ea_11ea_b1e1_acde48001122row2_col6\" class=\"data row2 col6\" >0.950000</td>\n",
       "                        <td id=\"T_a06173ee_a1ea_11ea_b1e1_acde48001122row2_col7\" class=\"data row2 col7\" >1.000000</td>\n",
       "            </tr>\n",
       "            <tr>\n",
       "                        <th id=\"T_a06173ee_a1ea_11ea_b1e1_acde48001122level0_row3\" class=\"row_heading level0 row3\" >4.0</th>\n",
       "                        <td id=\"T_a06173ee_a1ea_11ea_b1e1_acde48001122row3_col0\" class=\"data row3 col0\" >1718.000000</td>\n",
       "                        <td id=\"T_a06173ee_a1ea_11ea_b1e1_acde48001122row3_col1\" class=\"data row3 col1\" >0.830000</td>\n",
       "                        <td id=\"T_a06173ee_a1ea_11ea_b1e1_acde48001122row3_col2\" class=\"data row3 col2\" >0.290000</td>\n",
       "                        <td id=\"T_a06173ee_a1ea_11ea_b1e1_acde48001122row3_col3\" class=\"data row3 col3\" >-0.940000</td>\n",
       "                        <td id=\"T_a06173ee_a1ea_11ea_b1e1_acde48001122row3_col4\" class=\"data row3 col4\" >0.840000</td>\n",
       "                        <td id=\"T_a06173ee_a1ea_11ea_b1e1_acde48001122row3_col5\" class=\"data row3 col5\" >0.940000</td>\n",
       "                        <td id=\"T_a06173ee_a1ea_11ea_b1e1_acde48001122row3_col6\" class=\"data row3 col6\" >0.970000</td>\n",
       "                        <td id=\"T_a06173ee_a1ea_11ea_b1e1_acde48001122row3_col7\" class=\"data row3 col7\" >1.000000</td>\n",
       "            </tr>\n",
       "            <tr>\n",
       "                        <th id=\"T_a06173ee_a1ea_11ea_b1e1_acde48001122level0_row4\" class=\"row_heading level0 row4\" >5.0</th>\n",
       "                        <td id=\"T_a06173ee_a1ea_11ea_b1e1_acde48001122row4_col0\" class=\"data row4 col0\" >6839.000000</td>\n",
       "                        <td id=\"T_a06173ee_a1ea_11ea_b1e1_acde48001122row4_col1\" class=\"data row4 col1\" >0.880000</td>\n",
       "                        <td id=\"T_a06173ee_a1ea_11ea_b1e1_acde48001122row4_col2\" class=\"data row4 col2\" >0.210000</td>\n",
       "                        <td id=\"T_a06173ee_a1ea_11ea_b1e1_acde48001122row4_col3\" class=\"data row4 col3\" >-0.980000</td>\n",
       "                        <td id=\"T_a06173ee_a1ea_11ea_b1e1_acde48001122row4_col4\" class=\"data row4 col4\" >0.880000</td>\n",
       "                        <td id=\"T_a06173ee_a1ea_11ea_b1e1_acde48001122row4_col5\" class=\"data row4 col5\" >0.950000</td>\n",
       "                        <td id=\"T_a06173ee_a1ea_11ea_b1e1_acde48001122row4_col6\" class=\"data row4 col6\" >0.970000</td>\n",
       "                        <td id=\"T_a06173ee_a1ea_11ea_b1e1_acde48001122row4_col7\" class=\"data row4 col7\" >1.000000</td>\n",
       "            </tr>\n",
       "    </tbody></table>"
      ],
      "text/plain": [
       "<pandas.io.formats.style.Styler at 0x117a400d0>"
      ]
     },
     "execution_count": 6,
     "metadata": {},
     "output_type": "execute_result"
    }
   ],
   "source": [
    "def high_value_text_color(val):\n",
    "    \"\"\"\n",
    "    Takes a scalar and returns a string with\n",
    "    the css property `'color: white'` for very high\n",
    "    values, black otherwise.\n",
    "    \"\"\"\n",
    "    color = 'white' if val > 1 else 'black'\n",
    "    return 'color: %s' % color\n",
    "\n",
    "desc = reviews[['rating', 'compound']].groupby('rating').describe()\n",
    "\n",
    "desc.round(2).style.apply(background_gradient,\n",
    "               cmap='YlGnBu',\n",
    "               m=0,\n",
    "               M=1,\n",
    "               low=0.25,\n",
    "               high=0.75,\n",
    "           ).applymap(high_value_text_color)"
   ]
  },
  {
   "cell_type": "markdown",
   "metadata": {},
   "source": [
    "The most significant observation from this table is that there is a large class imbalance between each rating class. While this doesn't affect our sentiment analysis, it would be a concern if we were to use these data for other purposes.\n",
    "\n",
    "The mean values of the compound scores follow the same pattern as seen above. Interestingly, the standard deviation in compound scores follows the opposite pattern, meaning that the sentiment of reviews with low ratings is more variable than for reviews with high ratings.\n",
    "\n",
    "Read through the text of reviews with opposite ratings and compound scores. Even very negative reviews contain words with very positive sentiment like \"enjoy\", \"love\", \"nice\", and \"great\". You can also try splitting up a review into segments and exploring their scores."
   ]
  },
  {
   "cell_type": "code",
   "execution_count": 7,
   "metadata": {
    "scrolled": false
   },
   "outputs": [
    {
     "name": "stdout",
     "output_type": "stream",
     "text": [
      "Will not last long A cheap but fun helicopter. It will not fly after several hours of use no matter what you do.I enjoyed three of them but bought a much larger and better one and it has many hours of flight time.Look for a better one and it is worth it. You can not use this outdoors at all. \n",
      "\n",
      "A blight on party games I understand that I am swimming against the tide here.  In the interest of full disclosure, I would rather play a game ofTroyes Board GameorMerkatorbefore pretty much any party game, but I also enjoy quality party games such asDixit,Balderdash, or evenCrappy Birthday.  Those party games at least encourage some level of creative thinking and strategy, and Dixit and Balderdash have elegant scoring mechanics which encourage a certain level of strategy.Apples to Apples has none of this.  The random card selection forces the players into prefabricated \"hilarious\" answers, and even taking the approach of playing one non sequitur answer after another can get rather tedious.  The totally arbitrary way in which the judge selects the winning card hardly helps.  It becomes impossible to formulate any coherent strategy.  Having people plead their case before the judge guarantees that the game either becomes a popularity contest or a situation where the loudest person in the room gets his/her way.There are better games out there, folks.  I have listed a few of them for your benefit.  Check them out.  It's a shame that a game as dull and uninspired as Apples to Apples has enjoyed the success that it has. \n",
      "\n",
      "It's a toy, with little educational value This is a toy that makes noise, and I did not particularly find this toy useful or educational. It focused more on the play, rather than the education. If anything, it prepares our little ones to use a touch-screen device (iphones, mp3 players, ipads, etc). Tag a part of the book and the pen talks or makes noise. This is not a bad thing, but it is also not educational IMHO. The best way to take advantage of this Tag Reading System is to use it with the child. That way, the child can ask questions and you can provide answers. Also, it requires a PC computer to add or change books.  It is not compatible with Mac, which others have reported.  Other than that, I thought this toy is sub-par (though fun for children), and I do not find it to have any educational value or potential. \n",
      "\n",
      "So sorry I bought! I was so excited to buy this product, thinking it would improve my grandchildren's skills and interest in reading.  I also bought nearly $100 worth of the TAG books to go with the pen. I gave it to the grandkids for Christmas, not realizing it couldn't be used right out of the box.  But, okay, lots of toys need batteries, etc., so I thought no big deal. However, that was not the issue.  The fine print on the TAG reader and all of the books says none of the items can be used until you download the Leapfrog TAG system onto your computer and then you have to find and download each and every book one at a time. Great--- my home computer is a little outdated so the download would not work. I had to go to someone elses computer and put the books on the pen, and will have to do that each time a new book is purchased.  The pen, straight from the box, needed an \"update\" as soon as it was connected to the computer, as well. The entire process took about 2 hours.  I would never have bought this had I known it needed internet access on a new OS.I called the Leapfrog customer service line 3 days in a row to see if they offered downloads for my older computer, but NEVER spoke to anyone. The first day, I stayed on hold 67 minutes. Day 2, 55 minutes. Day 3, I stayed on hold until the battery died in my cordless and no one ever answered, even though my \"call was very important\" and \"the next available operator\" would help me. I wish I hadn't discarded the packaging; it would definitley have been a return! \n",
      "\n",
      "PROBLEMS. PROBLEMS. PROBLEMS. I got this toy at the store, came home, tried to set it up, make work with books..two hours later I am at square one.Now I see that there is a review here that exactly points to what is the deal with this toy and the deal is tha it is not out of the can openandplay toy.You need so much time to set it up, so many steps, connect it to the computerand all that you go gray haired before you finished.I think this is by far the most irritating toy of the year! at least it got my vote.It might work perfect but I did not pass the instalation, initiation and setting up an account process that asked me for my date of birth, my child date of birth, my address and what not.. and then it asked me for half of my family email addresses.. not to mention mine.I see where they are getting with it but I do not need it.I am not going to go through this \"insane\" instalation process every book I add to it,and clearly it did not came preloaded with info nor the books are so easy to download as one might think.It is unncessarly complciated. and It goes back to the store.. after very close call of going to the garbage instead. Yes, this thing can bring the best in you.There is a very good theree starr or so review of this toy that will give you an exactpicture of what is involved. If I knew it beofore I would not bother.There is so many better toys that do not make a parent to be a slave of technology.This company does not realise how little time parents have and how much time this toy consumes in order to work. This is very bad trade off. And this whole insane rewarding system that makes you run for  your computer every few minutes, look for connection cable and connect thing?do you really need all that? and btw.. you can't opt out of it so you will have to follow the rewarding system to make the toy go back to work and read the book.how many paper bookmarks might your child need or enjoy if they win one every few minutes?okay considered yourself warned. \n",
      "\n",
      "DO NOT Stick, DO NOT Flip Good, DO NOT Buy! I'm usually pretty happy with M&D products, but this one fails completely IMO. I was excited when it arrived, but the moment I flipped open the pad and tried to peel off one of the &#34;stickers&#34; for my 20mth old daughter, I knew this was a bad investment. Firstly, like many reviewers had commented negatively - these are NOT stickers because they don't stick or shall I say they don't have adhesive in the back as you'd normally find in ordinary stickers. I understand these are re-usable but they still should stick more like stickers than vinyl. Yes, they feel like some sort of thin filmy plastic or vinyl material and will only stay on the special surface of the pad if you press it down hard and smooth out the edges. It is easy to crush under little hands so be prepared to throw out a lot of damaged ones. Another frustrating feature is the pad being a flip-over type, hence each time you've got to exhaust yourself flipping back and forth between &#34;stickers&#34; and scenes. I'd prefer they separate the &#34;stickers&#34; from the pad. Spiral binding will work more effectively for excited, impatient toddlers who couldn't be bothered to sift through the pages to get to the specific &#34;stickers&#34; and scenes they are working on. Lastly, it gets boring pretty fast. Overall, I wouldn't buy this again. Save your $$$ and get a real sticker book even if you couldn't move them around as many times as you'd like. I wouldn't recommend to anyone I know. \n",
      "\n",
      "Far Too Noisy For Indoor Play Kids love to play camping- both indoors and out, so I thought this was a cute idea for something different to do for them with our- almost every day is raining- weather we have been having here in Ohio. The children have always put 2 chairs apart and thrown a blanket over them for an instant tent with our lantern inside for some imaginative indoor camping fun. I thought this would add to their indoor fun- bringing camping inside- since it's wet outdoors here about 9 months out of the year now.The log looks cute. It has a cloth flame that moves from a fan inside, to look like a flickering fire. It has a light inside that makes a slight glowing on the top of the log. It runs on 4 AA batteries. Once we turned it on, the light is very dull and the fan that blows the cloth flame is too loud in an annoying way- like when we use our hedgeclippers outdoors. It's a sound that of course isn't as loud as hedgeclippers- but it is loud- way too loud for indoors.I can't imagine why they didn't use a quiet fan- like the mini ones they make for just blowing air on your face in the summer. It makes no sense to use such a rackety one that ruins the calm of a fire. As for the light, they need a light that glows brighter, so the kids can see in the dark- like by a real fire. A quiet fan and brighter light that the kids can make hand shadows by, would have made this cute idea a hit, but as it is- the noisiness is just too much for indoor play which makes it useless. \n",
      "\n",
      "buy an ipad for your kid instead first of all I regret buying it but my son loves it. and a lot of the apps are very fun and full of great learning concepts but  I don't like 3 main things:1. the apps are too expensive - In reading reviews before purchasing this, I don't remember anyone mentioning how expensive the apps are. I can't figure out how this can stay competitive on a market like this with all the other tablet options for kids. on average most apps are like $7 versus $.99 for apps with an ipad. and you have to buy the apps constantly; actually you have to buy them like weekly because the kids go through the apps like a thirsty person drinks water in the desert. the apps should be $2-3 at the most.  Some are $25! just robbery! capitalism at it's worst2. everything you need for the thing is, of course, sold separately.  it only runs on batteries for maybe 2-3 hours so either buy rechargeable ones or you are spending a lot in batteries every few days. the charger and the headphones and the case are all separate and each costs about $20 a piece. just robbery! thievery! if we are paying $100 for the gadget, everything should be included. by the time you pay for the device, the apps, and the attachments, you would have a brand new ipad. in fact, it's cheaper to buy an ipad and buy $.99 apps than buy this thing.3. this device does not have Wi-Fi. I knew it didn't when I bought it but didn't realize how burdensome it would be to constantly download things from my computer to this game system. it's like I'm spending more time downloading the software and apps that it's making more work for me and less fun for my son. \n",
      "\n",
      "So not worth it - maybe 1.5 stars My five-year-old daughter has been wanting a Leap Pad for about six months now since she played her cousin's, so I was happy to get the opportunity to try this one.  Boy am I glad we didn't spend money on it.The good points of this device begin and end with the ease of set up.  Out of the box, the Leap Pad will be ready to use in about ten minutes of hooking up to the internet and downloading from the Leap Frog website.When my daughter first got the Leap Pad, she dove right into it and played most of the rest of the day, pausing only when we insisted that she give her older sister a turn to satisfy her curiosity.  I was relieved that finally she won't be pestering me for my smartphone all the time.After playing with it again the next day for less than an hour, however, my daughter asked me for my phone again.  By the end of the week she had practically forgotten about the Leap Pad and was right back with the phone.  While giving in and letting her borrow my phone, I decided to see what this Leap Pad is all about.  Didn't take me more than 5 minutes to want my phone back.The package includes nine apps when you initially connect to the Leap Frog website.  Among these are a decent art program, a pet corner and a game that \"teaches\" the flags and various random useless facts about countries the majority of adults have never heard of.  There is also a calculator, a clock and a couple other apps your average preschooler will never touch.  To the extent she has used it at all since the initial days, my daughter only uses the pet and art apps.The package also includes a $20 download card in order to load more programs from the Leap Frog website.  At first I was pretty impressed.  The apps range from $5 and up and you get a discount the more apps you buy.  The apps include games, videos, ebooks and other sorts of \"educational\" material.  I was able to get five apps, so I was pretty happy.  At first the new apps didn't download to the device properly and my daughter couldn't find them, but my husband hooked the device back up to the internet and the problem resolved itself.The problem is, the apps are junk.  The games are very simplistic and repetitive.  Among the games we got, there were two themes.  Three of the games involved inserting missing pieces to create a complete tube or waterslide to get from one end of a path to the other.  Two of the games involved patterns of moving objects out of the way to \"free\" something (a polar bear, for instance).  The one ebook we got was insulting, even for a preschooler's cognitive level and my daughter didn't want to touch it again.I'm sure our mistake was choosing the cheaper alternatives.  I'm guessing that the apps that cost $20 and up may hold your child's attention better.  But who wants to spend that kind of money on a child's toy that already costs nearly $100?  It's just a continual black hole sucking money straight out of your wallet.  You can also choose cartridges which can at least be shared among friends, but they are also expensive and are probably easily lost.Once you set up the device and register your child(ren), Leap Frog will send you periodic updates regarding your child's \"progress\".  This is to give further credibility to Leap Pad as an \"educational learning tool\".  The fact is, however, there is little that is educational about this or any other electronic gadget.  Memorizing facts is not \"learning\".  Age appropriate learning for a preschooler involves hands-on exploration and discovery, pretend play, engagement with parents and other adults, as well as interaction with peers.  None of that is offered - and, in fact, is stilted - by isolated, controlled \"play\" on a gadget.In any case, in this modern world, electronic gadgets may be nearly unavoidable.  If you really think your youngster needs a gadget, a simple small tablet would probably be a better option.  There are plenty of free games and other apps for tablets.  It may not look as inviting and \"child-friendly\" as this device with its two extra styluses and Doc McStuffins wallpaper, but it's a much better deal in the long run.Update 3/13/14:  Two other things I forgot to mention.  First, the Leap Pad is equipped with a camera, but it takes such bad pictures, your child will probably not want to use this feature more than once.  Second, on the pet app, your child can wash his/her pet which involves, among other things, blowing into part of the device to dry off the pet, which the kids think is fun, but I find a bit bizarre.  I don't know whether the germ factor bothers me more (especially since it's designed to be shared among up to three kids) or the fact that it's eerily like a breathalyzer. \n",
      "\n"
     ]
    }
   ],
   "source": [
    "for t in reviews.loc[(reviews['rating'] == 1) & (reviews['compound'] > 0.96), 'text']: print(t, '\\n')"
   ]
  },
  {
   "cell_type": "code",
   "execution_count": null,
   "metadata": {},
   "outputs": [],
   "source": []
  }
 ],
 "metadata": {
  "kernelspec": {
   "display_name": "Python 3",
   "language": "python",
   "name": "python3"
  },
  "language_info": {
   "codemirror_mode": {
    "name": "ipython",
    "version": 3
   },
   "file_extension": ".py",
   "mimetype": "text/x-python",
   "name": "python",
   "nbconvert_exporter": "python",
   "pygments_lexer": "ipython3",
   "version": "3.7.7"
  }
 },
 "nbformat": 4,
 "nbformat_minor": 2
}
