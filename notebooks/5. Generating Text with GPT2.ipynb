{
 "cells": [
  {
   "cell_type": "markdown",
   "metadata": {},
   "source": [
    "# Generating Text with GPT-2\n",
    "\n",
    "GPT-2 is a large transformer-based language model developed by OpenAI. This model is unidirectional - it learns to predict the next word in a sequence without knowing what lies beyond. This makes it a generative model. If given a starting sentence, it can generate paragraphs of purely synthetic text.\n",
    "\n",
    "The corpus it was trained on, called WebText, contains slightly over 8 million documents for a total of 40 GB of text from URLs shared in Reddit submissions with at least 3 upvotes. It avoids certain issues encoding vocabulary with word tokens by using byte pair encoding. This allows to represent any string of characters by encoding both individual characters and multiple-character tokens. GPT-2 generates extremely fluent English, and has learned some information about other languages.\n",
    "\n",
    "This model is massive. It has 1.5 billion parameters and took months to train on 100+ GPUs. We don't have that kind of computational power. However, we can get some of the same capabilities of GPT-2 using smaller, simpler versions of the model."
   ]
  },
  {
   "cell_type": "markdown",
   "metadata": {},
   "source": [
    "> - Learn about the GPT-2 architecture:\n",
    ">\n",
    ">https://towardsdatascience.com/openai-gpt-2-understanding-language-generation-through-visualization-8252f683b2f8\n",
    "\n",
    "\n",
    ">- Read text generated with GPT-2 (featuring herds of unicorns - scroll down to the gray background)\n",
    ">\n",
    ">https://openai.com/blog/better-language-models/\n",
    "\n",
    "\n",
    ">- Try out GPT-2!\n",
    ">\n",
    ">https://transformer.huggingface.co/\n",
    "\n",
    "\n",
    ">- Train your own (lite) version of GPT-2 using Google Colab\n",
    ">\n",
    ">https://github.com/minimaxir/gpt-2-simple\n"
   ]
  },
  {
   "cell_type": "code",
   "execution_count": null,
   "metadata": {},
   "outputs": [],
   "source": []
  }
 ],
 "metadata": {
  "kernelspec": {
   "display_name": "Python 3",
   "language": "python",
   "name": "python3"
  },
  "language_info": {
   "codemirror_mode": {
    "name": "ipython",
    "version": 3
   },
   "file_extension": ".py",
   "mimetype": "text/x-python",
   "name": "python",
   "nbconvert_exporter": "python",
   "pygments_lexer": "ipython3",
   "version": "3.7.6"
  }
 },
 "nbformat": 4,
 "nbformat_minor": 4
}
